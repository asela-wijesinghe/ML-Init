{
 "cells": [
  {
   "cell_type": "code",
   "execution_count": 30,
   "metadata": {},
   "outputs": [
    {
     "data": {
      "text/html": [
       "<div>\n",
       "<style scoped>\n",
       "    .dataframe tbody tr th:only-of-type {\n",
       "        vertical-align: middle;\n",
       "    }\n",
       "\n",
       "    .dataframe tbody tr th {\n",
       "        vertical-align: top;\n",
       "    }\n",
       "\n",
       "    .dataframe thead th {\n",
       "        text-align: right;\n",
       "    }\n",
       "</style>\n",
       "<table border=\"1\" class=\"dataframe\">\n",
       "  <thead>\n",
       "    <tr style=\"text-align: right;\">\n",
       "      <th></th>\n",
       "      <th>age</th>\n",
       "      <th>workclass</th>\n",
       "      <th>education</th>\n",
       "      <th>education-num</th>\n",
       "      <th>marital-status</th>\n",
       "      <th>occupation</th>\n",
       "      <th>relationship</th>\n",
       "      <th>race</th>\n",
       "      <th>sex</th>\n",
       "      <th>capital-gain</th>\n",
       "      <th>capital-loss</th>\n",
       "      <th>hours-per-week</th>\n",
       "      <th>native-country</th>\n",
       "      <th>income</th>\n",
       "    </tr>\n",
       "  </thead>\n",
       "  <tbody>\n",
       "    <tr>\n",
       "      <th>0</th>\n",
       "      <td>39</td>\n",
       "      <td>State-gov</td>\n",
       "      <td>Bachelors</td>\n",
       "      <td>13</td>\n",
       "      <td>Never-married</td>\n",
       "      <td>Adm-clerical</td>\n",
       "      <td>Not-in-family</td>\n",
       "      <td>White</td>\n",
       "      <td>Male</td>\n",
       "      <td>2174</td>\n",
       "      <td>0</td>\n",
       "      <td>40</td>\n",
       "      <td>United-States</td>\n",
       "      <td>&lt;=50K</td>\n",
       "    </tr>\n",
       "    <tr>\n",
       "      <th>1</th>\n",
       "      <td>50</td>\n",
       "      <td>Self-emp-not-inc</td>\n",
       "      <td>Bachelors</td>\n",
       "      <td>13</td>\n",
       "      <td>Married-civ-spouse</td>\n",
       "      <td>Exec-managerial</td>\n",
       "      <td>Husband</td>\n",
       "      <td>White</td>\n",
       "      <td>Male</td>\n",
       "      <td>0</td>\n",
       "      <td>0</td>\n",
       "      <td>13</td>\n",
       "      <td>United-States</td>\n",
       "      <td>&lt;=50K</td>\n",
       "    </tr>\n",
       "    <tr>\n",
       "      <th>2</th>\n",
       "      <td>38</td>\n",
       "      <td>Private</td>\n",
       "      <td>HS-grad</td>\n",
       "      <td>9</td>\n",
       "      <td>Divorced</td>\n",
       "      <td>Handlers-cleaners</td>\n",
       "      <td>Not-in-family</td>\n",
       "      <td>White</td>\n",
       "      <td>Male</td>\n",
       "      <td>0</td>\n",
       "      <td>0</td>\n",
       "      <td>40</td>\n",
       "      <td>United-States</td>\n",
       "      <td>&lt;=50K</td>\n",
       "    </tr>\n",
       "    <tr>\n",
       "      <th>3</th>\n",
       "      <td>53</td>\n",
       "      <td>Private</td>\n",
       "      <td>11th</td>\n",
       "      <td>7</td>\n",
       "      <td>Married-civ-spouse</td>\n",
       "      <td>Handlers-cleaners</td>\n",
       "      <td>Husband</td>\n",
       "      <td>Black</td>\n",
       "      <td>Male</td>\n",
       "      <td>0</td>\n",
       "      <td>0</td>\n",
       "      <td>40</td>\n",
       "      <td>United-States</td>\n",
       "      <td>&lt;=50K</td>\n",
       "    </tr>\n",
       "    <tr>\n",
       "      <th>4</th>\n",
       "      <td>28</td>\n",
       "      <td>Private</td>\n",
       "      <td>Bachelors</td>\n",
       "      <td>13</td>\n",
       "      <td>Married-civ-spouse</td>\n",
       "      <td>Prof-specialty</td>\n",
       "      <td>Wife</td>\n",
       "      <td>Black</td>\n",
       "      <td>Female</td>\n",
       "      <td>0</td>\n",
       "      <td>0</td>\n",
       "      <td>40</td>\n",
       "      <td>Cuba</td>\n",
       "      <td>&lt;=50K</td>\n",
       "    </tr>\n",
       "  </tbody>\n",
       "</table>\n",
       "</div>"
      ],
      "text/plain": [
       "   age          workclass   education   education-num       marital-status  \\\n",
       "0   39          State-gov   Bachelors              13        Never-married   \n",
       "1   50   Self-emp-not-inc   Bachelors              13   Married-civ-spouse   \n",
       "2   38            Private     HS-grad               9             Divorced   \n",
       "3   53            Private        11th               7   Married-civ-spouse   \n",
       "4   28            Private   Bachelors              13   Married-civ-spouse   \n",
       "\n",
       "           occupation    relationship    race      sex   capital-gain  \\\n",
       "0        Adm-clerical   Not-in-family   White     Male           2174   \n",
       "1     Exec-managerial         Husband   White     Male              0   \n",
       "2   Handlers-cleaners   Not-in-family   White     Male              0   \n",
       "3   Handlers-cleaners         Husband   Black     Male              0   \n",
       "4      Prof-specialty            Wife   Black   Female              0   \n",
       "\n",
       "    capital-loss   hours-per-week  native-country  income  \n",
       "0              0               40   United-States   <=50K  \n",
       "1              0               13   United-States   <=50K  \n",
       "2              0               40   United-States   <=50K  \n",
       "3              0               40   United-States   <=50K  \n",
       "4              0               40            Cuba   <=50K  "
      ]
     },
     "execution_count": 30,
     "metadata": {},
     "output_type": "execute_result"
    }
   ],
   "source": [
    "import pandas as pd\n",
    "import numpy as np\n",
    "from keras.models import Sequential\n",
    "from keras.layers import Dense\n",
    "from keras.optimizers import SGD\n",
    "from keras.utils import np_utils\n",
    "\n",
    "# Read dataset to pandas dataframe\n",
    "dataset = pd.read_csv(\"data.csv\")\n",
    "dataset.head()"
   ]
  },
  {
   "cell_type": "code",
   "execution_count": 31,
   "metadata": {},
   "outputs": [],
   "source": [
    "#How to pre-process the data?\n",
    "# fix dataset\n",
    "# 0,4,9,10,11 is continous so select only descrete columns\n",
    "cat_columns = []\n",
    "for i in [1,2,4,5,6,7,8,12,13]:\n",
    "    cat_columns.append(dataset.columns[i])\n"
   ]
  },
  {
   "cell_type": "code",
   "execution_count": 32,
   "metadata": {},
   "outputs": [],
   "source": [
    "# replace empty values\n",
    "dataset = dataset.replace(\" ?\", pd.NaT)\n",
    "dataset.dropna(inplace=True)\n",
    "#dataset"
   ]
  },
  {
   "cell_type": "code",
   "execution_count": 33,
   "metadata": {},
   "outputs": [
    {
     "data": {
      "text/plain": [
       "age                int64\n",
       " workclass          int8\n",
       " education          int8\n",
       " education-num     int64\n",
       " marital-status     int8\n",
       " occupation         int8\n",
       " relationship       int8\n",
       " race               int8\n",
       " sex                int8\n",
       " capital-gain      int64\n",
       " capital-loss      int64\n",
       " hours-per-week    int64\n",
       " native-country     int8\n",
       " income             int8\n",
       "dtype: object"
      ]
     },
     "execution_count": 33,
     "metadata": {},
     "output_type": "execute_result"
    }
   ],
   "source": [
    "for i in cat_columns:\n",
    "    dataset[i] = dataset[i].astype('category')\n",
    "    \n",
    " # represet them using numerical values\n",
    "for i in cat_columns:\n",
    "    dataset[i] = pd.Categorical(dataset[i]).codes\n",
    "    \n",
    "dataset.dtypes"
   ]
  },
  {
   "cell_type": "code",
   "execution_count": 34,
   "metadata": {},
   "outputs": [],
   "source": [
    "X = np.zeros((13, len(dataset)))\n",
    "y = np.array(dataset[dataset.columns[13]])\n"
   ]
  },
  {
   "cell_type": "code",
   "execution_count": 35,
   "metadata": {},
   "outputs": [],
   "source": [
    "#assign values to the array\n",
    "for i in range(len(dataset.columns)-1):\n",
    "    X[i] = np.array(dataset[dataset.columns[i]])\n",
    "X = X.transpose()"
   ]
  },
  {
   "cell_type": "code",
   "execution_count": 36,
   "metadata": {},
   "outputs": [],
   "source": [
    "# How to handle the over-fitting problem?\n",
    "# setting testing and training data limit\n",
    "from sklearn.model_selection import train_test_split\n",
    "X_train, X_test, y_train, y_test = train_test_split(X, y, test_size=0.30)"
   ]
  },
  {
   "cell_type": "code",
   "execution_count": 37,
   "metadata": {},
   "outputs": [
    {
     "data": {
      "text/plain": [
       "array([0, 0, 0, ..., 0, 0, 1], dtype=int8)"
      ]
     },
     "execution_count": 37,
     "metadata": {},
     "output_type": "execute_result"
    }
   ],
   "source": [
    "y_train"
   ]
  },
  {
   "cell_type": "code",
   "execution_count": 38,
   "metadata": {},
   "outputs": [
    {
     "data": {
      "text/plain": [
       "array([0, 0, 1, ..., 1, 1, 0], dtype=int8)"
      ]
     },
     "execution_count": 38,
     "metadata": {},
     "output_type": "execute_result"
    }
   ],
   "source": [
    "y_test"
   ]
  },
  {
   "cell_type": "code",
   "execution_count": 39,
   "metadata": {},
   "outputs": [
    {
     "data": {
      "text/plain": [
       "array([[29.,  0.,  9., ...,  0., 40., 38.],\n",
       "       [28.,  2., 11., ...,  0., 40., 38.],\n",
       "       [36.,  2., 11., ...,  0., 40., 38.],\n",
       "       ...,\n",
       "       [36.,  2.,  9., ...,  0., 50., 38.],\n",
       "       [39.,  2., 11., ...,  0., 40., 38.],\n",
       "       [23.,  2., 15., ...,  0., 20., 38.]])"
      ]
     },
     "execution_count": 39,
     "metadata": {},
     "output_type": "execute_result"
    }
   ],
   "source": [
    "X_test"
   ]
  },
  {
   "cell_type": "code",
   "execution_count": 46,
   "metadata": {},
   "outputs": [
    {
     "name": "stdout",
     "output_type": "stream",
     "text": [
      "Epoch 1/50\n",
      "21113/21113 [==============================] - 1s 33us/step - loss: 4.3236 - acc: 0.5960\n",
      "Epoch 2/50\n",
      "21113/21113 [==============================] - 0s 16us/step - loss: 1.2853 - acc: 0.7707\n",
      "Epoch 3/50\n",
      "21113/21113 [==============================] - 0s 17us/step - loss: 1.2544 - acc: 0.7744\n",
      "Epoch 4/50\n",
      "21113/21113 [==============================] - 0s 16us/step - loss: 1.2337 - acc: 0.7803\n",
      "Epoch 5/50\n",
      "21113/21113 [==============================] - 0s 16us/step - loss: 1.3310 - acc: 0.7776\n",
      "Epoch 6/50\n",
      "21113/21113 [==============================] - 0s 14us/step - loss: 1.6205 - acc: 0.7625\n",
      "Epoch 7/50\n",
      "21113/21113 [==============================] - 0s 14us/step - loss: 1.6186 - acc: 0.7630\n",
      "Epoch 8/50\n",
      "21113/21113 [==============================] - 0s 13us/step - loss: 1.6163 - acc: 0.7635\n",
      "Epoch 9/50\n",
      "21113/21113 [==============================] - 0s 12us/step - loss: 1.6120 - acc: 0.7647\n",
      "Epoch 10/50\n",
      "21113/21113 [==============================] - 0s 12us/step - loss: 1.6127 - acc: 0.7658\n",
      "Epoch 11/50\n",
      "21113/21113 [==============================] - 0s 12us/step - loss: 1.6085 - acc: 0.7661\n",
      "Epoch 12/50\n",
      "21113/21113 [==============================] - 0s 13us/step - loss: 1.6062 - acc: 0.7680\n",
      "Epoch 13/50\n",
      "21113/21113 [==============================] - 0s 12us/step - loss: 1.6024 - acc: 0.7691\n",
      "Epoch 14/50\n",
      "21113/21113 [==============================] - 0s 12us/step - loss: 1.6008 - acc: 0.7712\n",
      "Epoch 15/50\n",
      "21113/21113 [==============================] - 0s 12us/step - loss: 1.5980 - acc: 0.7694\n",
      "Epoch 16/50\n",
      "21113/21113 [==============================] - 0s 12us/step - loss: 1.5951 - acc: 0.7718\n",
      "Epoch 17/50\n",
      "21113/21113 [==============================] - 0s 18us/step - loss: 1.5902 - acc: 0.7740\n",
      "Epoch 18/50\n",
      "21113/21113 [==============================] - 0s 18us/step - loss: 1.5893 - acc: 0.7746\n",
      "Epoch 19/50\n",
      "21113/21113 [==============================] - 0s 19us/step - loss: 1.5840 - acc: 0.7757\n",
      "Epoch 20/50\n",
      "21113/21113 [==============================] - 0s 12us/step - loss: 1.5808 - acc: 0.7766\n",
      "Epoch 21/50\n",
      "21113/21113 [==============================] - 0s 13us/step - loss: 1.5775 - acc: 0.7763\n",
      "Epoch 22/50\n",
      "21113/21113 [==============================] - 0s 12us/step - loss: 1.5746 - acc: 0.7780\n",
      "Epoch 23/50\n",
      "21113/21113 [==============================] - 0s 12us/step - loss: 1.5736 - acc: 0.7796\n",
      "Epoch 24/50\n",
      "21113/21113 [==============================] - 0s 13us/step - loss: 1.5707 - acc: 0.7782\n",
      "Epoch 25/50\n",
      "21113/21113 [==============================] - 0s 12us/step - loss: 1.5674 - acc: 0.7816\n",
      "Epoch 26/50\n",
      "21113/21113 [==============================] - 0s 13us/step - loss: 1.5673 - acc: 0.7793\n",
      "Epoch 27/50\n",
      "21113/21113 [==============================] - 0s 12us/step - loss: 1.5691 - acc: 0.7786\n",
      "Epoch 28/50\n",
      "21113/21113 [==============================] - 0s 12us/step - loss: 1.5665 - acc: 0.7817\n",
      "Epoch 29/50\n",
      "21113/21113 [==============================] - 0s 13us/step - loss: 1.5686 - acc: 0.7791\n",
      "Epoch 30/50\n",
      "21113/21113 [==============================] - 0s 12us/step - loss: 1.5641 - acc: 0.7804\n",
      "Epoch 31/50\n",
      "21113/21113 [==============================] - 0s 13us/step - loss: 1.5633 - acc: 0.7806\n",
      "Epoch 32/50\n",
      "21113/21113 [==============================] - 0s 13us/step - loss: 1.5628 - acc: 0.7817\n",
      "Epoch 33/50\n",
      "21113/21113 [==============================] - 0s 14us/step - loss: 1.5627 - acc: 0.7825\n",
      "Epoch 34/50\n",
      "21113/21113 [==============================] - 0s 14us/step - loss: 1.5619 - acc: 0.7824\n",
      "Epoch 35/50\n",
      "21113/21113 [==============================] - 0s 13us/step - loss: 1.5625 - acc: 0.7832\n",
      "Epoch 36/50\n",
      "21113/21113 [==============================] - 0s 12us/step - loss: 1.5610 - acc: 0.7845\n",
      "Epoch 37/50\n",
      "21113/21113 [==============================] - 0s 12us/step - loss: 1.5620 - acc: 0.7828\n",
      "Epoch 38/50\n",
      "21113/21113 [==============================] - 0s 12us/step - loss: 1.5613 - acc: 0.7831\n",
      "Epoch 39/50\n",
      "21113/21113 [==============================] - 0s 12us/step - loss: 1.5638 - acc: 0.7808\n",
      "Epoch 40/50\n",
      "21113/21113 [==============================] - 0s 12us/step - loss: 1.5615 - acc: 0.7828\n",
      "Epoch 41/50\n",
      "21113/21113 [==============================] - 0s 13us/step - loss: 1.5608 - acc: 0.7833\n",
      "Epoch 42/50\n",
      "21113/21113 [==============================] - 0s 13us/step - loss: 1.5603 - acc: 0.7844\n",
      "Epoch 43/50\n",
      "21113/21113 [==============================] - 0s 13us/step - loss: 1.5599 - acc: 0.7835\n",
      "Epoch 44/50\n",
      "21113/21113 [==============================] - 0s 16us/step - loss: 1.5601 - acc: 0.7826\n",
      "Epoch 45/50\n",
      "21113/21113 [==============================] - 0s 17us/step - loss: 1.5605 - acc: 0.7842\n",
      "Epoch 46/50\n",
      "21113/21113 [==============================] - 0s 14us/step - loss: 1.5603 - acc: 0.7826\n",
      "Epoch 47/50\n",
      "21113/21113 [==============================] - 0s 16us/step - loss: 1.5591 - acc: 0.7842\n",
      "Epoch 48/50\n",
      "21113/21113 [==============================] - 0s 15us/step - loss: 1.5592 - acc: 0.7833\n",
      "Epoch 49/50\n",
      "21113/21113 [==============================] - 0s 18us/step - loss: 1.5599 - acc: 0.7827\n",
      "Epoch 50/50\n",
      "21113/21113 [==============================] - 0s 19us/step - loss: 1.5596 - acc: 0.7843\n"
     ]
    },
    {
     "data": {
      "text/plain": [
       "<keras.callbacks.History at 0x2980833be48>"
      ]
     },
     "execution_count": 46,
     "metadata": {},
     "output_type": "execute_result"
    }
   ],
   "source": [
    "# configs\n",
    "epochs = 50\n",
    "batch_size = 88\n",
    "output_classes = 1\n",
    "layer1 = 13\n",
    "layer2 = 12\n",
    "layer3 = 20\n",
    "\n",
    "# Set up the logistic regression model\n",
    "model = Sequential()\n",
    "model.add(Dense(layer2, input_dim=layer1, activation='relu'))\n",
    "model.add(Dense(layer3, activation='relu'))\n",
    "model.add(Dense(output_classes, activation='sigmoid'))\n",
    "\n",
    "model.compile(loss='binary_crossentropy', optimizer='adam', metrics=['accuracy'])\n",
    "\n",
    "model.fit(X_train, y_train, batch_size=batch_size, epochs=epochs)"
   ]
  },
  {
   "cell_type": "code",
   "execution_count": 47,
   "metadata": {},
   "outputs": [
    {
     "name": "stdout",
     "output_type": "stream",
     "text": [
      "9049/9049 [==============================] - 0s 26us/step\n"
     ]
    }
   ],
   "source": [
    "evaluation = model.evaluate(X_test, y_test, verbose=1)"
   ]
  },
  {
   "cell_type": "code",
   "execution_count": 48,
   "metadata": {},
   "outputs": [
    {
     "data": {
      "text/plain": [
       "0.7871588020644039"
      ]
     },
     "execution_count": 48,
     "metadata": {},
     "output_type": "execute_result"
    }
   ],
   "source": [
    "evaluation[1]"
   ]
  },
  {
   "cell_type": "code",
   "execution_count": null,
   "metadata": {},
   "outputs": [],
   "source": []
  }
 ],
 "metadata": {
  "kernelspec": {
   "display_name": "Python 3",
   "language": "python",
   "name": "python3"
  },
  "language_info": {
   "codemirror_mode": {
    "name": "ipython",
    "version": 3
   },
   "file_extension": ".py",
   "mimetype": "text/x-python",
   "name": "python",
   "nbconvert_exporter": "python",
   "pygments_lexer": "ipython3",
   "version": "3.6.5"
  }
 },
 "nbformat": 4,
 "nbformat_minor": 2
}
